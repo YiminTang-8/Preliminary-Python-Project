{
  "nbformat": 4,
  "nbformat_minor": 0,
  "metadata": {
    "colab": {
      "name": "HW1_Tang_Tom.ipynb",
      "provenance": [],
      "collapsed_sections": []
    },
    "kernelspec": {
      "name": "python3",
      "display_name": "Python 3"
    }
  },
  "cells": [
    {
      "cell_type": "markdown",
      "metadata": {
        "id": "hm8RAKinXsIP"
      },
      "source": [
        "## **Homework 1**\n",
        "\n",
        "### Create a copy of the notebook to start answering the questions. Name your notebook in the format HW1_lastname_firstname.ipynb to facilitate the grading process. \n",
        "\n",
        "### Answer all the questions, test your code to ensure there are no errors and the results are as expected. Once you have answered all the questions, save the final copy, then go to File-> click on Download.ipynb. Once the local copy has been downloaded, submit your file on Blackboard under the corresponding assignment section. Also provide us a link to your notebook during submission. \n",
        "\n",
        "### **The due date of this homework is 02/05/2021 (Friday).**\n",
        "\n",
        "### Please ensure you follow all the steps mentioned in the homework.\n",
        "\n",
        "### All the questions have a sample input and output to help you understand the question. Please note that your programs will be tested for other sets of inputs and outputs along with the sample provided. So test your code for other inputs.\n",
        "\n",
        "### You can submit your solutions any number of times until the deadline.\n"
      ]
    },
    {
      "cell_type": "markdown",
      "metadata": {
        "id": "uacFrEaZfcfq"
      },
      "source": [
        "##### Q1. Write a program that prompts the user to enter a password then prints the length of the password.\n",
        "\n",
        "```\n",
        "Enter your password: hello\n",
        "Your password is 5 long.\n",
        "```\n",
        "\n",
        "\n"
      ]
    },
    {
      "cell_type": "code",
      "metadata": {
        "id": "avPyES14ftCt",
        "colab": {
          "base_uri": "https://localhost:8080/"
        },
        "outputId": "df25c617-f99d-41d3-b67b-f750ffafb4f3"
      },
      "source": [
        "password = input(\"Enter your password: \")\r\n",
        "print(\"Your password is\",len(password), \"long.\")"
      ],
      "execution_count": null,
      "outputs": [
        {
          "output_type": "stream",
          "text": [
            "Enter your password: dsfsd\n",
            "Your password is 5 long\n"
          ],
          "name": "stdout"
        }
      ]
    },
    {
      "cell_type": "markdown",
      "metadata": {
        "id": "ekh-kABuItli"
      },
      "source": [
        ""
      ]
    },
    {
      "cell_type": "markdown",
      "metadata": {
        "id": "K1yko-xUItU3"
      },
      "source": [
        ""
      ]
    },
    {
      "cell_type": "markdown",
      "metadata": {
        "id": "behD0j_Of2TW"
      },
      "source": [
        "##### Q2. Write a program that prompts the user to enter their full name then prints the number of characters in their name (do not count spaces).\n",
        "\n",
        "```\n",
        "What is your name? Amulya Katti\n",
        "Amulya Katti your name has 11 characters.\n",
        "```"
      ]
    },
    {
      "cell_type": "code",
      "metadata": {
        "id": "XSdIRjwlhSlu",
        "colab": {
          "base_uri": "https://localhost:8080/"
        },
        "outputId": "e4e2544e-80d4-4bc1-c6d0-4400ff3174ed"
      },
      "source": [
        "name = input(\"What is your name? \")\r\n",
        "print(name, \"your name has {} characters.\".format(len(name) - name.count(\" \")))"
      ],
      "execution_count": null,
      "outputs": [
        {
          "output_type": "stream",
          "text": [
            "What is your name? tom tang\n",
            "tom tang your name has 7 characters\n"
          ],
          "name": "stdout"
        }
      ]
    },
    {
      "cell_type": "markdown",
      "metadata": {
        "id": "5KHOWF6FhVHV"
      },
      "source": [
        "##### Q3. Write a program that prompts the user to enter a month (as a number), then prints the name of the month and the number of days in that month. Ensure that the user inputs a valid month and handle any error cases.\n",
        "\n",
        "```\n",
        "Enter the month number: 9\n",
        "September has 30 days\n",
        "```"
      ]
    },
    {
      "cell_type": "code",
      "metadata": {
        "id": "KhS-SAEThyTG",
        "colab": {
          "base_uri": "https://localhost:8080/"
        },
        "outputId": "3a861387-e06a-4179-a9d6-15f1af019a2f"
      },
      "source": [
        "daysInMonth = {\r\n",
        "    1: [\"January\", 31],\r\n",
        "    2: [\"Feburary\", 28],\r\n",
        "    3: [\"March\", 31],\r\n",
        "    4: [\"April\", 30],\r\n",
        "    5: [\"May\", 31],\r\n",
        "    6: [\"June\", 30],\r\n",
        "    7: [\"July\", 31],\r\n",
        "    8: [\"August\", 31],\r\n",
        "    9: [\"September\", 30],\r\n",
        "    10: [\"October\", 31],\r\n",
        "    11: [\"November\", 30],\r\n",
        "    12: [\"December\", 31]\r\n",
        "}\r\n",
        "user = input(\"Enter the month number: \")\r\n",
        "if not user.isnumeric():\r\n",
        "  print(\"Please enter a valid month number\")\r\n",
        "else:\r\n",
        "  try:\r\n",
        "    print(\"{} has {} days.\".format(daysInMonth[int(user)][0], daysInMonth[int(user)][1]))\r\n",
        "  except:\r\n",
        "    print(\"Please enter a number within 1-12\")"
      ],
      "execution_count": null,
      "outputs": [
        {
          "output_type": "stream",
          "text": [
            "Enter the month number: 13\n",
            "Please enter a number within 1-12\n"
          ],
          "name": "stdout"
        }
      ]
    },
    {
      "cell_type": "markdown",
      "metadata": {
        "id": "O7lnAdGlh6Xa"
      },
      "source": [
        "##### Q4. Write a program that prompts the user to enter a loan amount, annual interest rate, and number of years  for a car loan. Then calculate and print the monthly payment amount.\n",
        "\n",
        "Note:\n",
        "```\n",
        "PMT= [PV*i*((1+i)^n)]/[((1+i)^n)-1]\n",
        "```\n",
        "PMT is the monthly payment\n",
        "\n",
        "PV is the loan amount\n",
        "\n",
        "i is the interest rate per month in decimal form (interest rate percentage divided by 12)\n",
        "\n",
        "n is the number of months (term of the loan in months)\n",
        "\n",
        "```\n",
        "Loan Amount: 30000.00\n",
        "Annual Interest Rate: 4.00\n",
        "Years: 5\n",
        "Your monthly payment is: $552.50\n",
        "```"
      ]
    },
    {
      "cell_type": "code",
      "metadata": {
        "id": "p4B5JH5GiTs9",
        "colab": {
          "base_uri": "https://localhost:8080/"
        },
        "outputId": "eb8b8a35-9e1d-4793-f3fd-fb725d0378a4"
      },
      "source": [
        "PV = float(input(\"Loan Amount: \"))\r\n",
        "i = float(input(\"Annual Interest Rate: \"))/100/12\r\n",
        "n = float(input(\"Years: \"))*12\r\n",
        "pmt = (PV*i*((1+i)**n))/(((1+i)**n)-1)\r\n",
        "print(\"Your montly payment is:\", pmt)"
      ],
      "execution_count": null,
      "outputs": [
        {
          "output_type": "stream",
          "text": [
            "Loan Amount: 30000\n",
            "Annual Interest Rate: 4\n",
            "Years: 5\n",
            "Your montly payment is: 552.4956616579791\n"
          ],
          "name": "stdout"
        }
      ]
    },
    {
      "cell_type": "markdown",
      "metadata": {
        "id": "SjiolJKgiWV-"
      },
      "source": [
        "##### Q5. Write a program to that prompts the user to enter a string. Then check whether or not the string is a palindrome.\n",
        "\n",
        "```\n",
        "Enter a string: Madam\n",
        "Madam, is a palindrome!\n",
        "```"
      ]
    },
    {
      "cell_type": "code",
      "metadata": {
        "id": "F5_M934Ri0es",
        "colab": {
          "base_uri": "https://localhost:8080/"
        },
        "outputId": "6fd91878-4ace-4ad5-a4e5-c4755c61bd38"
      },
      "source": [
        "user = input(\"Enter a string: \")\r\n",
        "if user.lower()[::-1] == user.lower():\r\n",
        "  print(\"{}, is a palindrome!\".format(user))\r\n",
        "else:\r\n",
        "  print(\"{}, is not a palindrome!\".format(user))"
      ],
      "execution_count": null,
      "outputs": [
        {
          "output_type": "stream",
          "text": [
            "Enter a string: lolo\n",
            "lolo, is not a palindrome!\n"
          ],
          "name": "stdout"
        }
      ]
    },
    {
      "cell_type": "markdown",
      "metadata": {
        "id": "BLBD6n9vkJEu"
      },
      "source": [
        "##### Q6. Write a program to compute and print all possible combinations of change for \\$1. Denominations to be considered – quarter, dime, nickel, penny.\n",
        "\n",
        "Hint: Use nested loops (loops within loops for the various denominations of coins)\n",
        "\n",
        "```\n",
        "Change for $1:\n",
        "0 quarters, 0 dimes, 0 nickels, 100 pennies\n",
        "…\n",
        "4 quarters, 0 dimes, 0 nickels, 0 pennies\n",
        "```"
      ]
    },
    {
      "cell_type": "code",
      "metadata": {
        "id": "kAQsTjwDkZZ5",
        "colab": {
          "base_uri": "https://localhost:8080/"
        },
        "outputId": "54674544-feda-4a38-a047-637ed51bcc37"
      },
      "source": [
        "results = []\r\n",
        "for x in range(5):\r\n",
        "  for y in range(11):\r\n",
        "    for z in range(21):\r\n",
        "      for w in range(101):\r\n",
        "        if (x*0.25 + y *0.1 + z * 0.05 + w * 0.01) == 1:\r\n",
        "          results.append([x,y,z,w])\r\n",
        "\r\n",
        "print(\"Change for $1:\")\r\n",
        "for change in results:\r\n",
        "  print(\"{} quarters, {} dimes, {} nickels, {} pennies\".format(change[0],change[1], change[2],change[3]))"
      ],
      "execution_count": null,
      "outputs": [
        {
          "output_type": "stream",
          "text": [
            "Change for $1:\n",
            "0 quarters, 0 dimes, 0 nickels, 100 pennies\n",
            "0 quarters, 0 dimes, 1 nickels, 95 pennies\n",
            "0 quarters, 0 dimes, 2 nickels, 90 pennies\n",
            "0 quarters, 0 dimes, 3 nickels, 85 pennies\n",
            "0 quarters, 0 dimes, 4 nickels, 80 pennies\n",
            "0 quarters, 0 dimes, 5 nickels, 75 pennies\n",
            "0 quarters, 0 dimes, 6 nickels, 70 pennies\n",
            "0 quarters, 0 dimes, 7 nickels, 65 pennies\n",
            "0 quarters, 0 dimes, 8 nickels, 60 pennies\n",
            "0 quarters, 0 dimes, 9 nickels, 55 pennies\n",
            "0 quarters, 0 dimes, 10 nickels, 50 pennies\n",
            "0 quarters, 0 dimes, 11 nickels, 45 pennies\n",
            "0 quarters, 0 dimes, 12 nickels, 40 pennies\n",
            "0 quarters, 0 dimes, 13 nickels, 35 pennies\n",
            "0 quarters, 0 dimes, 14 nickels, 30 pennies\n",
            "0 quarters, 0 dimes, 15 nickels, 25 pennies\n",
            "0 quarters, 0 dimes, 16 nickels, 20 pennies\n",
            "0 quarters, 0 dimes, 17 nickels, 15 pennies\n",
            "0 quarters, 0 dimes, 18 nickels, 10 pennies\n",
            "0 quarters, 0 dimes, 19 nickels, 5 pennies\n",
            "0 quarters, 0 dimes, 20 nickels, 0 pennies\n",
            "0 quarters, 1 dimes, 0 nickels, 90 pennies\n",
            "0 quarters, 1 dimes, 1 nickels, 85 pennies\n",
            "0 quarters, 1 dimes, 2 nickels, 80 pennies\n",
            "0 quarters, 1 dimes, 3 nickels, 75 pennies\n",
            "0 quarters, 1 dimes, 4 nickels, 70 pennies\n",
            "0 quarters, 1 dimes, 5 nickels, 65 pennies\n",
            "0 quarters, 1 dimes, 6 nickels, 60 pennies\n",
            "0 quarters, 1 dimes, 7 nickels, 55 pennies\n",
            "0 quarters, 1 dimes, 8 nickels, 50 pennies\n",
            "0 quarters, 1 dimes, 9 nickels, 45 pennies\n",
            "0 quarters, 1 dimes, 10 nickels, 40 pennies\n",
            "0 quarters, 1 dimes, 11 nickels, 35 pennies\n",
            "0 quarters, 1 dimes, 12 nickels, 30 pennies\n",
            "0 quarters, 1 dimes, 13 nickels, 25 pennies\n",
            "0 quarters, 1 dimes, 14 nickels, 20 pennies\n",
            "0 quarters, 1 dimes, 15 nickels, 15 pennies\n",
            "0 quarters, 1 dimes, 16 nickels, 10 pennies\n",
            "0 quarters, 1 dimes, 17 nickels, 5 pennies\n",
            "0 quarters, 1 dimes, 18 nickels, 0 pennies\n",
            "0 quarters, 2 dimes, 0 nickels, 80 pennies\n",
            "0 quarters, 2 dimes, 1 nickels, 75 pennies\n",
            "0 quarters, 2 dimes, 2 nickels, 70 pennies\n",
            "0 quarters, 2 dimes, 3 nickels, 65 pennies\n",
            "0 quarters, 2 dimes, 4 nickels, 60 pennies\n",
            "0 quarters, 2 dimes, 5 nickels, 55 pennies\n",
            "0 quarters, 2 dimes, 6 nickels, 50 pennies\n",
            "0 quarters, 2 dimes, 7 nickels, 45 pennies\n",
            "0 quarters, 2 dimes, 8 nickels, 40 pennies\n",
            "0 quarters, 2 dimes, 9 nickels, 35 pennies\n",
            "0 quarters, 2 dimes, 10 nickels, 30 pennies\n",
            "0 quarters, 2 dimes, 11 nickels, 25 pennies\n",
            "0 quarters, 2 dimes, 12 nickels, 20 pennies\n",
            "0 quarters, 2 dimes, 13 nickels, 15 pennies\n",
            "0 quarters, 2 dimes, 15 nickels, 5 pennies\n",
            "0 quarters, 2 dimes, 16 nickels, 0 pennies\n",
            "0 quarters, 3 dimes, 0 nickels, 70 pennies\n",
            "0 quarters, 3 dimes, 1 nickels, 65 pennies\n",
            "0 quarters, 3 dimes, 2 nickels, 60 pennies\n",
            "0 quarters, 3 dimes, 3 nickels, 55 pennies\n",
            "0 quarters, 3 dimes, 4 nickels, 50 pennies\n",
            "0 quarters, 3 dimes, 5 nickels, 45 pennies\n",
            "0 quarters, 3 dimes, 6 nickels, 40 pennies\n",
            "0 quarters, 3 dimes, 8 nickels, 30 pennies\n",
            "0 quarters, 3 dimes, 9 nickels, 25 pennies\n",
            "0 quarters, 3 dimes, 10 nickels, 20 pennies\n",
            "0 quarters, 3 dimes, 11 nickels, 15 pennies\n",
            "0 quarters, 3 dimes, 13 nickels, 5 pennies\n",
            "0 quarters, 3 dimes, 14 nickels, 0 pennies\n",
            "0 quarters, 4 dimes, 0 nickels, 60 pennies\n",
            "0 quarters, 4 dimes, 1 nickels, 55 pennies\n",
            "0 quarters, 4 dimes, 2 nickels, 50 pennies\n",
            "0 quarters, 4 dimes, 3 nickels, 45 pennies\n",
            "0 quarters, 4 dimes, 4 nickels, 40 pennies\n",
            "0 quarters, 4 dimes, 5 nickels, 35 pennies\n",
            "0 quarters, 4 dimes, 6 nickels, 30 pennies\n",
            "0 quarters, 4 dimes, 7 nickels, 25 pennies\n",
            "0 quarters, 4 dimes, 8 nickels, 20 pennies\n",
            "0 quarters, 4 dimes, 9 nickels, 15 pennies\n",
            "0 quarters, 4 dimes, 10 nickels, 10 pennies\n",
            "0 quarters, 4 dimes, 11 nickels, 5 pennies\n",
            "0 quarters, 4 dimes, 12 nickels, 0 pennies\n",
            "0 quarters, 5 dimes, 0 nickels, 50 pennies\n",
            "0 quarters, 5 dimes, 1 nickels, 45 pennies\n",
            "0 quarters, 5 dimes, 2 nickels, 40 pennies\n",
            "0 quarters, 5 dimes, 3 nickels, 35 pennies\n",
            "0 quarters, 5 dimes, 4 nickels, 30 pennies\n",
            "0 quarters, 5 dimes, 5 nickels, 25 pennies\n",
            "0 quarters, 5 dimes, 6 nickels, 20 pennies\n",
            "0 quarters, 5 dimes, 7 nickels, 15 pennies\n",
            "0 quarters, 5 dimes, 8 nickels, 10 pennies\n",
            "0 quarters, 5 dimes, 9 nickels, 5 pennies\n",
            "0 quarters, 5 dimes, 10 nickels, 0 pennies\n",
            "0 quarters, 6 dimes, 0 nickels, 40 pennies\n",
            "0 quarters, 6 dimes, 2 nickels, 30 pennies\n",
            "0 quarters, 6 dimes, 3 nickels, 25 pennies\n",
            "0 quarters, 6 dimes, 4 nickels, 20 pennies\n",
            "0 quarters, 6 dimes, 5 nickels, 15 pennies\n",
            "0 quarters, 6 dimes, 8 nickels, 0 pennies\n",
            "0 quarters, 7 dimes, 0 nickels, 30 pennies\n",
            "0 quarters, 7 dimes, 1 nickels, 25 pennies\n",
            "0 quarters, 7 dimes, 2 nickels, 20 pennies\n",
            "0 quarters, 7 dimes, 3 nickels, 15 pennies\n",
            "0 quarters, 7 dimes, 5 nickels, 5 pennies\n",
            "0 quarters, 7 dimes, 6 nickels, 0 pennies\n",
            "0 quarters, 8 dimes, 0 nickels, 20 pennies\n",
            "0 quarters, 8 dimes, 1 nickels, 15 pennies\n",
            "0 quarters, 8 dimes, 2 nickels, 10 pennies\n",
            "0 quarters, 8 dimes, 3 nickels, 5 pennies\n",
            "0 quarters, 8 dimes, 4 nickels, 0 pennies\n",
            "0 quarters, 9 dimes, 0 nickels, 10 pennies\n",
            "0 quarters, 9 dimes, 1 nickels, 5 pennies\n",
            "0 quarters, 9 dimes, 2 nickels, 0 pennies\n",
            "0 quarters, 10 dimes, 0 nickels, 0 pennies\n",
            "1 quarters, 0 dimes, 0 nickels, 75 pennies\n",
            "1 quarters, 0 dimes, 1 nickels, 70 pennies\n",
            "1 quarters, 0 dimes, 2 nickels, 65 pennies\n",
            "1 quarters, 0 dimes, 3 nickels, 60 pennies\n",
            "1 quarters, 0 dimes, 4 nickels, 55 pennies\n",
            "1 quarters, 0 dimes, 5 nickels, 50 pennies\n",
            "1 quarters, 0 dimes, 6 nickels, 45 pennies\n",
            "1 quarters, 0 dimes, 7 nickels, 40 pennies\n",
            "1 quarters, 0 dimes, 8 nickels, 35 pennies\n",
            "1 quarters, 0 dimes, 9 nickels, 30 pennies\n",
            "1 quarters, 0 dimes, 10 nickels, 25 pennies\n",
            "1 quarters, 0 dimes, 11 nickels, 20 pennies\n",
            "1 quarters, 0 dimes, 12 nickels, 15 pennies\n",
            "1 quarters, 0 dimes, 13 nickels, 10 pennies\n",
            "1 quarters, 0 dimes, 14 nickels, 5 pennies\n",
            "1 quarters, 0 dimes, 15 nickels, 0 pennies\n",
            "1 quarters, 1 dimes, 0 nickels, 65 pennies\n",
            "1 quarters, 1 dimes, 1 nickels, 60 pennies\n",
            "1 quarters, 1 dimes, 2 nickels, 55 pennies\n",
            "1 quarters, 1 dimes, 3 nickels, 50 pennies\n",
            "1 quarters, 1 dimes, 4 nickels, 45 pennies\n",
            "1 quarters, 1 dimes, 5 nickels, 40 pennies\n",
            "1 quarters, 1 dimes, 6 nickels, 35 pennies\n",
            "1 quarters, 1 dimes, 7 nickels, 30 pennies\n",
            "1 quarters, 1 dimes, 8 nickels, 25 pennies\n",
            "1 quarters, 1 dimes, 9 nickels, 20 pennies\n",
            "1 quarters, 1 dimes, 10 nickels, 15 pennies\n",
            "1 quarters, 1 dimes, 11 nickels, 10 pennies\n",
            "1 quarters, 1 dimes, 12 nickels, 5 pennies\n",
            "1 quarters, 1 dimes, 13 nickels, 0 pennies\n",
            "1 quarters, 2 dimes, 0 nickels, 55 pennies\n",
            "1 quarters, 2 dimes, 1 nickels, 50 pennies\n",
            "1 quarters, 2 dimes, 2 nickels, 45 pennies\n",
            "1 quarters, 2 dimes, 3 nickels, 40 pennies\n",
            "1 quarters, 2 dimes, 4 nickels, 35 pennies\n",
            "1 quarters, 2 dimes, 5 nickels, 30 pennies\n",
            "1 quarters, 2 dimes, 6 nickels, 25 pennies\n",
            "1 quarters, 2 dimes, 7 nickels, 20 pennies\n",
            "1 quarters, 2 dimes, 8 nickels, 15 pennies\n",
            "1 quarters, 2 dimes, 9 nickels, 10 pennies\n",
            "1 quarters, 2 dimes, 10 nickels, 5 pennies\n",
            "1 quarters, 2 dimes, 11 nickels, 0 pennies\n",
            "1 quarters, 3 dimes, 0 nickels, 45 pennies\n",
            "1 quarters, 3 dimes, 1 nickels, 40 pennies\n",
            "1 quarters, 3 dimes, 2 nickels, 35 pennies\n",
            "1 quarters, 3 dimes, 3 nickels, 30 pennies\n",
            "1 quarters, 3 dimes, 4 nickels, 25 pennies\n",
            "1 quarters, 3 dimes, 5 nickels, 20 pennies\n",
            "1 quarters, 3 dimes, 6 nickels, 15 pennies\n",
            "1 quarters, 3 dimes, 8 nickels, 5 pennies\n",
            "1 quarters, 3 dimes, 9 nickels, 0 pennies\n",
            "1 quarters, 4 dimes, 0 nickels, 35 pennies\n",
            "1 quarters, 4 dimes, 1 nickels, 30 pennies\n",
            "1 quarters, 4 dimes, 2 nickels, 25 pennies\n",
            "1 quarters, 4 dimes, 3 nickels, 20 pennies\n",
            "1 quarters, 4 dimes, 4 nickels, 15 pennies\n",
            "1 quarters, 4 dimes, 5 nickels, 10 pennies\n",
            "1 quarters, 4 dimes, 6 nickels, 5 pennies\n",
            "1 quarters, 4 dimes, 7 nickels, 0 pennies\n",
            "1 quarters, 5 dimes, 0 nickels, 25 pennies\n",
            "1 quarters, 5 dimes, 1 nickels, 20 pennies\n",
            "1 quarters, 5 dimes, 2 nickels, 15 pennies\n",
            "1 quarters, 5 dimes, 3 nickels, 10 pennies\n",
            "1 quarters, 5 dimes, 4 nickels, 5 pennies\n",
            "1 quarters, 5 dimes, 5 nickels, 0 pennies\n",
            "1 quarters, 6 dimes, 0 nickels, 15 pennies\n",
            "1 quarters, 6 dimes, 2 nickels, 5 pennies\n",
            "1 quarters, 6 dimes, 3 nickels, 0 pennies\n",
            "1 quarters, 7 dimes, 0 nickels, 5 pennies\n",
            "1 quarters, 7 dimes, 1 nickels, 0 pennies\n",
            "2 quarters, 0 dimes, 0 nickels, 50 pennies\n",
            "2 quarters, 0 dimes, 1 nickels, 45 pennies\n",
            "2 quarters, 0 dimes, 2 nickels, 40 pennies\n",
            "2 quarters, 0 dimes, 3 nickels, 35 pennies\n",
            "2 quarters, 0 dimes, 4 nickels, 30 pennies\n",
            "2 quarters, 0 dimes, 5 nickels, 25 pennies\n",
            "2 quarters, 0 dimes, 6 nickels, 20 pennies\n",
            "2 quarters, 0 dimes, 7 nickels, 15 pennies\n",
            "2 quarters, 0 dimes, 8 nickels, 10 pennies\n",
            "2 quarters, 0 dimes, 9 nickels, 5 pennies\n",
            "2 quarters, 0 dimes, 10 nickels, 0 pennies\n",
            "2 quarters, 1 dimes, 0 nickels, 40 pennies\n",
            "2 quarters, 1 dimes, 1 nickels, 35 pennies\n",
            "2 quarters, 1 dimes, 2 nickels, 30 pennies\n",
            "2 quarters, 1 dimes, 3 nickels, 25 pennies\n",
            "2 quarters, 1 dimes, 4 nickels, 20 pennies\n",
            "2 quarters, 1 dimes, 5 nickels, 15 pennies\n",
            "2 quarters, 1 dimes, 6 nickels, 10 pennies\n",
            "2 quarters, 1 dimes, 7 nickels, 5 pennies\n",
            "2 quarters, 1 dimes, 8 nickels, 0 pennies\n",
            "2 quarters, 2 dimes, 0 nickels, 30 pennies\n",
            "2 quarters, 2 dimes, 1 nickels, 25 pennies\n",
            "2 quarters, 2 dimes, 2 nickels, 20 pennies\n",
            "2 quarters, 2 dimes, 3 nickels, 15 pennies\n",
            "2 quarters, 2 dimes, 5 nickels, 5 pennies\n",
            "2 quarters, 2 dimes, 6 nickels, 0 pennies\n",
            "2 quarters, 3 dimes, 0 nickels, 20 pennies\n",
            "2 quarters, 3 dimes, 1 nickels, 15 pennies\n",
            "2 quarters, 3 dimes, 2 nickels, 10 pennies\n",
            "2 quarters, 3 dimes, 3 nickels, 5 pennies\n",
            "2 quarters, 3 dimes, 4 nickels, 0 pennies\n",
            "2 quarters, 4 dimes, 0 nickels, 10 pennies\n",
            "2 quarters, 4 dimes, 1 nickels, 5 pennies\n",
            "2 quarters, 4 dimes, 2 nickels, 0 pennies\n",
            "2 quarters, 5 dimes, 0 nickels, 0 pennies\n",
            "3 quarters, 0 dimes, 0 nickels, 25 pennies\n",
            "3 quarters, 0 dimes, 1 nickels, 20 pennies\n",
            "3 quarters, 0 dimes, 2 nickels, 15 pennies\n",
            "3 quarters, 0 dimes, 3 nickels, 10 pennies\n",
            "3 quarters, 0 dimes, 4 nickels, 5 pennies\n",
            "3 quarters, 0 dimes, 5 nickels, 0 pennies\n",
            "3 quarters, 1 dimes, 0 nickels, 15 pennies\n",
            "3 quarters, 1 dimes, 1 nickels, 10 pennies\n",
            "3 quarters, 1 dimes, 2 nickels, 5 pennies\n",
            "3 quarters, 1 dimes, 3 nickels, 0 pennies\n",
            "3 quarters, 2 dimes, 0 nickels, 5 pennies\n",
            "3 quarters, 2 dimes, 1 nickels, 0 pennies\n",
            "4 quarters, 0 dimes, 0 nickels, 0 pennies\n"
          ],
          "name": "stdout"
        }
      ]
    },
    {
      "cell_type": "markdown",
      "metadata": {
        "id": "rUPDjYiIkbgs"
      },
      "source": [
        "##### Q7. Ask the user to enter two positive integers between 1 and 100. Read those integers. Then output a multiplication table of the first number times the second number. \n",
        "\n",
        "Note: You have to ensure the entered numbers are between 1 and 100 only.\n",
        "\n",
        "```\n",
        "Please enter an integer: 5\n",
        "Please enter another integer: 20\n",
        "5 x 1 = 5\n",
        "5 x 2 = 10\n",
        "5 x 3 = 15\n",
        "…\n",
        "5 x 20 = 100\n",
        "```"
      ]
    },
    {
      "cell_type": "code",
      "metadata": {
        "id": "Qg0Orv1klHzA",
        "colab": {
          "base_uri": "https://localhost:8080/"
        },
        "outputId": "8d702817-ab1e-406b-a3cb-2fabde993746"
      },
      "source": [
        "first = 0\r\n",
        "second = 0\r\n",
        "while not (first < 100 and first > 1):\r\n",
        "  first = int(input(\"Please enter an integer: \"))\r\n",
        "while not (second < 100 and second > 1):\r\n",
        "  second = int(input(\"Please enter another integer: \"))\r\n",
        "\r\n",
        "for i in range(second):\r\n",
        "  print(\"{} x {} = {}\".format(first, i+1, first * (i+1)))"
      ],
      "execution_count": null,
      "outputs": [
        {
          "output_type": "stream",
          "text": [
            "Please enter an integer: 10\n",
            "Please enter another integer: 10\n",
            "10 x 1 = 10\n",
            "10 x 2 = 20\n",
            "10 x 3 = 30\n",
            "10 x 4 = 40\n",
            "10 x 5 = 50\n",
            "10 x 6 = 60\n",
            "10 x 7 = 70\n",
            "10 x 8 = 80\n",
            "10 x 9 = 90\n",
            "10 x 10 = 100\n"
          ],
          "name": "stdout"
        }
      ]
    },
    {
      "cell_type": "markdown",
      "metadata": {
        "id": "SbnbPUPTlLD9"
      },
      "source": [
        "##### Q8. Write a program to ask the user to enter a password. Then check to see if it is a valid password based on these requirements -\n",
        "\n",
        "Must be at least 8 characters long\n",
        "\n",
        "Must contain both uppercase and lowercase letters\n",
        "\n",
        "Must contain at least one number between 0-9\n",
        "\n",
        "Must contain a special character -!,@,#,$\n",
        "\n",
        "If the password is not valid, ask the user to re-enter. This should continue until the user enters a valid password. After a valid password is entered, print Access Granted!\n",
        "\n",
        "```\n",
        "Please enter a password. Follow these requirements - \n",
        "a. Must be at least 8 characters long\n",
        "b. Must contain both uppercase and lowercase letters\n",
        "c. Must contain at least one number between 0-9\n",
        "d. Must contain a special character -!,@,#,$\n",
        "Password: HelloWorld1\n",
        "Invalid password. Try again!\n",
        "Password: Hello@World1\n",
        "Access Granted!\n",
        "```\n"
      ]
    },
    {
      "cell_type": "code",
      "metadata": {
        "id": "OXmZ177Rl-RV",
        "colab": {
          "base_uri": "https://localhost:8080/"
        },
        "outputId": "e27a33b3-756b-4b75-fe4f-41a6668a6749"
      },
      "source": [
        "length, upper, lower ,number, special = False, False, False, False, False\r\n",
        "\r\n",
        "while not(length and upper and lower and number and special):\r\n",
        "  pw = input(\"Password: \")\r\n",
        "  if len(pw) >= 8:\r\n",
        "    length = True\r\n",
        "\r\n",
        "  for letter in pw:\r\n",
        "    if letter.isalpha():\r\n",
        "      if letter.isupper():\r\n",
        "        upper = True\r\n",
        "      if letter.islower():\r\n",
        "        lower = True\r\n",
        "\r\n",
        "    if letter.isdigit():\r\n",
        "      number = True\r\n",
        "\r\n",
        "    if letter in \"!@#$\":\r\n",
        "      special = True\r\n",
        "\r\n",
        "  if not(length and upper and lower and number and special):\r\n",
        "    print(\"Invalid Password. Try again!\")\r\n",
        "  else:\r\n",
        "    print(\"Access Granted!\")\r\n",
        "\r\n",
        "\r\n"
      ],
      "execution_count": null,
      "outputs": [
        {
          "output_type": "stream",
          "text": [
            "Password: sadds\n",
            "Invalid Password. Try again!\n",
            "Password: Hello@World1\n",
            "Access Granted!\n"
          ],
          "name": "stdout"
        }
      ]
    },
    {
      "cell_type": "markdown",
      "metadata": {
        "id": "-0sdutTDnTKA"
      },
      "source": [
        "##### Q9. Given the score sheet of participants in a competition, you are required to find the runner-up score. You are given scores in a list. Find the score of the runner-up.\n",
        "\n",
        "```\n",
        "list1 - [2, 3, 6, 6, 5]\n",
        "runner_up - 5\n",
        "\n",
        "list2 - [1, 7, 5, 3, 10, 4, 5, 5, 6, 11]\n",
        "runner_up - 10\n",
        "```"
      ]
    },
    {
      "cell_type": "code",
      "metadata": {
        "id": "12YP9OaqpGRK",
        "colab": {
          "base_uri": "https://localhost:8080/"
        },
        "outputId": "fe207be3-d8df-4660-a770-ec77d707aa91"
      },
      "source": [
        "def runnerUp(numbers):\r\n",
        "  highest = numbers[0]\r\n",
        "  second = numbers[1]\r\n",
        "  for i in range(2, len(numbers)):\r\n",
        "    if numbers[i] > highest:\r\n",
        "      second = highest\r\n",
        "      highest = numbers[i]\r\n",
        "    elif numbers[i] > second and numbers[i] < highest:\r\n",
        "      second = numbers[i]\r\n",
        "  return second\r\n",
        "\r\n",
        "list1 = [2, 3, 6, 6, 5]\r\n",
        "print(list1)\r\n",
        "print(\"runner_up -\", runnerUp(list1))\r\n",
        "\r\n",
        "\r\n",
        "list2 = [1, 7, 5, 3, 10, 4, 5, 5, 6, 11]\r\n",
        "print(list2)\r\n",
        "print(\"runner_up -\", runnerUp(list2))\r\n",
        "\r\n"
      ],
      "execution_count": 1,
      "outputs": [
        {
          "output_type": "stream",
          "text": [
            "[2, 3, 6, 6, 5]\n",
            "runner_up - 5\n",
            "[1, 7, 5, 3, 10, 4, 5, 5, 6, 11]\n",
            "runner_up - 10\n"
          ],
          "name": "stdout"
        }
      ]
    }
  ]
}